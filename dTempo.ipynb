{
 "cells": [
  {
   "cell_type": "code",
   "execution_count": null,
   "metadata": {},
   "outputs": [],
   "source": [
    "%pip install pandas sqlalchemy snowflake-connector-python snowflake-sqlalchemy holidays python-dotenv"
   ]
  },
  {
   "cell_type": "code",
   "execution_count": 6,
   "metadata": {},
   "outputs": [],
   "source": [
    "from os import getenv\n",
    "import pandas as pd\n",
    "from sqlalchemy import create_engine\n",
    "from snowflake.sqlalchemy import URL\n",
    "from dotenv import load_dotenv\n",
    "import calendar\n",
    "import locale\n",
    "from datetime import datetime, timedelta\n",
    "import holidays"
   ]
  },
  {
   "cell_type": "code",
   "execution_count": 7,
   "metadata": {},
   "outputs": [
    {
     "data": {
      "text/plain": [
       "'pt_BR.utf8'"
      ]
     },
     "execution_count": 7,
     "metadata": {},
     "output_type": "execute_result"
    }
   ],
   "source": [
    "locale.setlocale(locale.LC_TIME, 'pt_BR.utf8')"
   ]
  },
  {
   "cell_type": "code",
   "execution_count": 8,
   "metadata": {},
   "outputs": [],
   "source": [
    "def get_estacao(date):\n",
    "    month = date.month\n",
    "    day = date.day\n",
    "    \n",
    "    if (month == 12 and day >= 21) or month in [1, 2] or (month == 3 and day < 21):\n",
    "        return 'Verão'\n",
    "    elif (month == 3 and day >= 21) or month in [4, 5] or (month == 6 and day < 21):\n",
    "        return 'Outono'\n",
    "    elif (month == 6 and day >= 21) or month in [7, 8] or (month == 9 and day < 23):\n",
    "        return 'Inverno'\n",
    "    elif (month == 9 and day >= 23) or month in [10, 11] or (month == 12 and day < 21):\n",
    "        return 'Primavera'\n",
    "\n",
    "start_date = '2000-01-01'\n",
    "end_date = '2030-12-31'\n",
    "\n",
    "date_range = pd.date_range(start=start_date, end=end_date)\n",
    "\n",
    "df_time = pd.DataFrame(date_range, columns=['data'])\n",
    "\n",
    "df_time['dia'] = df_time['data'].dt.day\n",
    "df_time['nr_mes'] = df_time['data'].dt.month\n",
    "df_time['ds_mes'] = df_time['data'].dt.month.apply(lambda x: calendar.month_name[x])\n",
    "df_time['nr_trimestre'] = df_time['data'].dt.quarter\n",
    "df_time['estacao'] = df_time['data'].apply(get_estacao)\n",
    "\n",
    "br_holidays = holidays.Brazil()\n",
    "df_time['in_feriado'] = df_time['data'].apply(lambda x: x in br_holidays)\n",
    "\n"
   ]
  },
  {
   "cell_type": "code",
   "execution_count": null,
   "metadata": {},
   "outputs": [],
   "source": [
    "load_dotenv()"
   ]
  },
  {
   "cell_type": "code",
   "execution_count": null,
   "metadata": {},
   "outputs": [],
   "source": [
    "snowflake_conn_string = URL(\n",
    "    account= getenv('SNOWFLAKE_ACCOUNT'),\n",
    "    user= getenv('SNOWFLAKE_USER'),\n",
    "    password= getenv('SNOWFLAKE_PASSWORD'),\n",
    "    database= getenv('SNOWFLAKE_DATABASE')\n",
    ")\n",
    "snowflake = create_engine(snowflake_conn_string)"
   ]
  },
  {
   "cell_type": "code",
   "execution_count": null,
   "metadata": {},
   "outputs": [],
   "source": [
    "df_time.to_sql(\n",
    "        name='d_tempo',\n",
    "        con=snowflake,\n",
    "        schema='dw',\n",
    "        if_exists='replace',\n",
    "        index=False\n",
    "    )"
   ]
  }
 ],
 "metadata": {
  "kernelspec": {
   "display_name": ".venv",
   "language": "python",
   "name": "python3"
  },
  "language_info": {
   "codemirror_mode": {
    "name": "ipython",
    "version": 3
   },
   "file_extension": ".py",
   "mimetype": "text/x-python",
   "name": "python",
   "nbconvert_exporter": "python",
   "pygments_lexer": "ipython3",
   "version": "3.11.9"
  }
 },
 "nbformat": 4,
 "nbformat_minor": 2
}
